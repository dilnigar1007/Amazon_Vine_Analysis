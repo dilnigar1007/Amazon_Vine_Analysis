{
  "nbformat": 4,
  "nbformat_minor": 0,
  "metadata": {
    "colab": {
      "provenance": []
    },
    "kernelspec": {
      "name": "python3",
      "display_name": "Python 3"
    },
    "language_info": {
      "name": "python"
    }
  },
  "cells": [
    {
      "cell_type": "code",
      "execution_count": 1,
      "metadata": {
        "colab": {
          "base_uri": "https://localhost:8080/"
        },
        "id": "Tkhn77wBBQJc",
        "outputId": "ee3035ad-0ab1-4c4c-c310-f69bd1f6a972"
      },
      "outputs": [
        {
          "output_type": "stream",
          "name": "stdout",
          "text": [
            "\r0% [Working]\r            \rIgn:1 https://developer.download.nvidia.com/compute/machine-learning/repos/ubuntu1804/x86_64  InRelease\n",
            "\r0% [Connecting to archive.ubuntu.com] [Connecting to security.ubuntu.com (91.18\r                                                                               \rGet:2 https://developer.download.nvidia.com/compute/cuda/repos/ubuntu1804/x86_64  InRelease [1,581 B]\n",
            "\r0% [Connecting to archive.ubuntu.com] [Waiting for headers] [Waiting for header\r0% [Connecting to archive.ubuntu.com] [Waiting for headers] [Waiting for header\r                                                                               \rGet:3 https://cloud.r-project.org/bin/linux/ubuntu bionic-cran40/ InRelease [3,626 B]\n",
            "\r0% [Connecting to archive.ubuntu.com] [Waiting for headers] [Connecting to ppa.\r0% [2 InRelease gpgv 1,581 B] [Connecting to archive.ubuntu.com] [Waiting for h\r                                                                               \rHit:4 https://developer.download.nvidia.com/compute/machine-learning/repos/ubuntu1804/x86_64  Release\n",
            "Get:5 http://security.ubuntu.com/ubuntu bionic-security InRelease [88.7 kB]\n",
            "Get:6 http://ppa.launchpad.net/c2d4u.team/c2d4u4.0+/ubuntu bionic InRelease [15.9 kB]\n",
            "Get:7 https://developer.download.nvidia.com/compute/cuda/repos/ubuntu1804/x86_64  Packages [947 kB]\n",
            "Hit:8 http://archive.ubuntu.com/ubuntu bionic InRelease\n",
            "Get:9 http://archive.ubuntu.com/ubuntu bionic-updates InRelease [88.7 kB]\n",
            "Get:10 http://archive.ubuntu.com/ubuntu bionic-backports InRelease [83.3 kB]\n",
            "Hit:11 http://ppa.launchpad.net/cran/libgit2/ubuntu bionic InRelease\n",
            "Hit:12 http://ppa.launchpad.net/deadsnakes/ppa/ubuntu bionic InRelease\n",
            "Get:14 http://ppa.launchpad.net/graphics-drivers/ppa/ubuntu bionic InRelease [21.3 kB]\n",
            "Get:15 http://security.ubuntu.com/ubuntu bionic-security/universe amd64 Packages [1,546 kB]\n",
            "Get:16 http://security.ubuntu.com/ubuntu bionic-security/main amd64 Packages [2,990 kB]\n",
            "Get:17 http://ppa.launchpad.net/c2d4u.team/c2d4u4.0+/ubuntu bionic/main Sources [2,155 kB]\n",
            "Get:18 http://archive.ubuntu.com/ubuntu bionic-updates/universe amd64 Packages [2,323 kB]\n",
            "Get:19 http://archive.ubuntu.com/ubuntu bionic-updates/main amd64 Packages [3,422 kB]\n",
            "Get:20 http://ppa.launchpad.net/c2d4u.team/c2d4u4.0+/ubuntu bionic/main amd64 Packages [1,104 kB]\n",
            "Get:21 http://ppa.launchpad.net/graphics-drivers/ppa/ubuntu bionic/main amd64 Packages [48.3 kB]\n",
            "Fetched 14.8 MB in 6s (2,572 kB/s)\n",
            "Reading package lists... Done\n"
          ]
        }
      ],
      "source": [
        "import os\n",
        "# Find the latest version of spark 3.0 from http://www.apache.org/dist/spark/ and enter as the spark version\n",
        "# For example:\n",
        "# spark_version = 'spark-3.0.3'\n",
        "spark_version = 'spark-3.2.2'\n",
        "os.environ['SPARK_VERSION']=spark_version\n",
        "\n",
        "# Install Spark and Java\n",
        "!apt-get update\n",
        "!apt-get install openjdk-11-jdk-headless -qq > /dev/null\n",
        "!wget -q http://www.apache.org/dist/spark/$SPARK_VERSION/$SPARK_VERSION-bin-hadoop2.7.tgz\n",
        "!tar xf $SPARK_VERSION-bin-hadoop2.7.tgz\n",
        "!pip install -q findspark\n",
        "\n",
        "# Set Environment Variables\n",
        "import os\n",
        "os.environ[\"JAVA_HOME\"] = \"/usr/lib/jvm/java-11-openjdk-amd64\"\n",
        "os.environ[\"SPARK_HOME\"] = f\"/content/{spark_version}-bin-hadoop2.7\"\n",
        "\n",
        "# Start a SparkSession\n",
        "import findspark\n",
        "findspark.init()"
      ]
    },
    {
      "cell_type": "code",
      "source": [
        "# Download the Postgres driver that will allow Spark to interact with Postgres.\n",
        "!wget https://jdbc.postgresql.org/download/postgresql-42.5.0.jar"
      ],
      "metadata": {
        "colab": {
          "base_uri": "https://localhost:8080/"
        },
        "id": "ngKDeFuqBrA6",
        "outputId": "de4dfb42-2ac7-41cc-deff-1e7af8019213"
      },
      "execution_count": 2,
      "outputs": [
        {
          "output_type": "stream",
          "name": "stdout",
          "text": [
            "--2022-10-04 03:25:26--  https://jdbc.postgresql.org/download/postgresql-42.5.0.jar\n",
            "Resolving jdbc.postgresql.org (jdbc.postgresql.org)... 72.32.157.228, 2001:4800:3e1:1::228\n",
            "Connecting to jdbc.postgresql.org (jdbc.postgresql.org)|72.32.157.228|:443... connected.\n",
            "HTTP request sent, awaiting response... 200 OK\n",
            "Length: 1046274 (1022K) [application/java-archive]\n",
            "Saving to: ‘postgresql-42.5.0.jar’\n",
            "\n",
            "postgresql-42.5.0.j 100%[===================>]   1022K  6.20MB/s    in 0.2s    \n",
            "\n",
            "2022-10-04 03:25:26 (6.20 MB/s) - ‘postgresql-42.5.0.jar’ saved [1046274/1046274]\n",
            "\n"
          ]
        }
      ]
    },
    {
      "cell_type": "code",
      "source": [
        "from pyspark.sql import SparkSession\n",
        "spark = SparkSession.builder.appName(\"M16-Amazon-Challenge\").config(\"spark.driver.extraClassPath\",\"/content/postgresql-42.5.0.jar\").getOrCreate()"
      ],
      "metadata": {
        "id": "7PyRoPPoBu6I"
      },
      "execution_count": 3,
      "outputs": []
    },
    {
      "cell_type": "code",
      "source": [
        "from pyspark import SparkFiles\n",
        "url = \"https://dilnigardolkun.s3.us-west-2.amazonaws.com/amazon_reviews_us_Video_v1_00.tsv\"\n",
        "spark.sparkContext.addFile(url)\n",
        "df = spark.read.option(\"encoding\", \"UTF-8\").csv(SparkFiles.get(\"amazon_reviews_us_Video_v1_00.tsv\"), sep=\"\\t\", header=True, inferSchema=True)\n",
        "df.show()"
      ],
      "metadata": {
        "colab": {
          "base_uri": "https://localhost:8080/"
        },
        "id": "j-dr-ktpB78n",
        "outputId": "1d494d4d-9797-425f-ab17-63d2785750c4"
      },
      "execution_count": 4,
      "outputs": [
        {
          "output_type": "stream",
          "name": "stdout",
          "text": [
            "+-----------+-----------+--------------+----------+--------------+--------------------+----------------+-----------+-------------+-----------+----+-----------------+--------------------+--------------------+-----------+\n",
            "|marketplace|customer_id|     review_id|product_id|product_parent|       product_title|product_category|star_rating|helpful_votes|total_votes|vine|verified_purchase|     review_headline|         review_body|review_date|\n",
            "+-----------+-----------+--------------+----------+--------------+--------------------+----------------+-----------+-------------+-----------+----+-----------------+--------------------+--------------------+-----------+\n",
            "|         US|   49033728|R1P1G5KZ05H6RD|6302503213|     748506413|The Night They Sa...|           Video|          5|            0|          0|   N|                Y|    Very satisfied!!|Fast shipping. Pl...| 2015-08-31|\n",
            "|         US|   17857748|R106N066IUN8ZV|B000059PET|     478710180|Hamlet / Kline, N...|           Video|          5|            0|          0|   N|                Y|The most talented...|Kevin Kline is th...| 2015-08-31|\n",
            "|         US|   25551507| R7WTAA1S5O7D9|0788812807|     981002815|Nascar Dual Power...|           Video|          4|            0|          0|   N|                Y|          Four Stars|         great movie| 2015-08-31|\n",
            "|         US|   21025041|R32HFMVWLYOYJK|6302509939|     333219811|The Man From U.N....|           Video|          5|            0|          0|   N|                Y|          Five Stars|i love the martin...| 2015-08-31|\n",
            "|         US|   40943563| RWT3H6HBVAL6G|B00JENS2BI|     538101194|Playboy Video Par...|           Video|          3|            0|          0|   N|                N|HOT women, dumb j...|Y'know what this ...| 2015-08-31|\n",
            "|         US|   17013969|R1S3T3GWUGQTW7|6305761302|     716303278|Cabaret Balkan - ...|           Video|          5|            0|          0|   N|                Y|          Five Stars|Wonderfully accur...| 2015-08-31|\n",
            "|         US|   47611685|R3R0QYHA800REE|6300157555|     134996462|Wrinkles:in Need ...|           Video|          4|            0|          0|   N|                Y|          Four Stars|In great shape fo...| 2015-08-31|\n",
            "|         US|   35680737|R1FR0EQPHPW5NM|6300189570|     498116870|Ladies Club,the [...|           Video|          4|            1|          2|   N|                N|          Four Stars|When are they goi...| 2015-08-31|\n",
            "|         US|   10747909| RGORN81H45NI7|B000SXQ5US|      77519275|The Campitelli Ad...|           Video|          5|            1|          1|   N|                Y|I was thrilled to...|This is the best ...| 2015-08-31|\n",
            "|         US|     126341|R1CNYN4ABNOJSU|B00008F22G|     917778300|Return of the Jed...|           Video|          5|            0|          0|   N|                Y|          Five Stars|I'm very pleased ...| 2015-08-31|\n",
            "|         US|   40676812|R2DW06821PMN40|6303453961|     187850980|  Class of '61 [VHS]|           Video|          3|            0|          0|   N|                Y|         Three Stars|      Poor quality--| 2015-08-31|\n",
            "|         US|   19863533|R1CS8AMA8B0VBJ|6302453178|     901056605|Texas Carnival [VHS]|           Video|          5|            0|          0|   N|                Y|Texas Carnival movie|Great Howard Keel...| 2015-08-31|\n",
            "|         US|   13308975|R343CPRI4MC9J0|6304475330|     472277071|National Geograph...|           Video|          5|            0|          0|   N|                N|One of my All Tim...|I loved this vide...| 2015-08-31|\n",
            "|         US|    1989554| R3XP0G8P2BOTP|B000XPQ18W|     627738468| The Intruder Within|           Video|          5|            1|          2|   N|                Y|          Five Stars|excellent, no com...| 2015-08-31|\n",
            "|         US|   14885930|R3NK7014K996PF|0800113055|     585148093|It Happened One N...|           Video|          2|            0|          4|   N|                Y|        Almost great|Was soon looking ...| 2015-08-31|\n",
            "|         US|   24203443| ROIQI6ZW6UVL9|6300133338|     966466095|       Robbery [VHS]|           Video|          5|            0|          0|   N|                Y|Based on the grea...|Based on the grea...| 2015-08-31|\n",
            "|         US|   14885930| RECPIN4UZI76Z|6304119054|     399731786|The Magnificent A...|           Video|          2|            0|          2|   N|                Y|           Not great|Honestly I didn't...| 2015-08-31|\n",
            "|         US|   41133700|R3FE5KO613PMVI|B000006CPD|     509239068|     Streamers [VHS]|           Video|          1|            0|          0|   N|                Y|Low quality recor...|Movie is great - ...| 2015-08-31|\n",
            "|         US|   46580399|R2EC74PS45RAOR|189218608X|     773411366|Special Kids Spee...|           Video|          5|            0|          0|   N|                Y|          Five Stars|These tapes are a...| 2015-08-31|\n",
            "|         US|   19863533|R3FZ5C78PP7ZD7|6302754348|     536886134|Arizona Bushwhack...|           Video|          5|            1|          1|   N|                Y|Arizona Bushwacke...|Awesome Howard Ke...| 2015-08-31|\n",
            "+-----------+-----------+--------------+----------+--------------+--------------------+----------------+-----------+-------------+-----------+----+-----------------+--------------------+--------------------+-----------+\n",
            "only showing top 20 rows\n",
            "\n"
          ]
        }
      ]
    },
    {
      "cell_type": "code",
      "source": [
        "# Create a new dataframe with votes 20 or more.\n",
        "votes_df = df.filter(\"total_votes >=20\")\n",
        "votes_df.show()"
      ],
      "metadata": {
        "colab": {
          "base_uri": "https://localhost:8080/"
        },
        "id": "YbOO-97YCFoZ",
        "outputId": "91cccaa0-6e58-4988-9c56-f48f36ab9fa7"
      },
      "execution_count": 10,
      "outputs": [
        {
          "output_type": "stream",
          "name": "stdout",
          "text": [
            "+-----------+-----------+--------------+----------+--------------+--------------------+----------------+-----------+-------------+-----------+----+-----------------+--------------------+--------------------+-----------+\n",
            "|marketplace|customer_id|     review_id|product_id|product_parent|       product_title|product_category|star_rating|helpful_votes|total_votes|vine|verified_purchase|     review_headline|         review_body|review_date|\n",
            "+-----------+-----------+--------------+----------+--------------+--------------------+----------------+-----------+-------------+-----------+----+-----------------+--------------------+--------------------+-----------+\n",
            "|         US|    2134748| RN8GRZ45FA27G|B00004RLLT|     401019781|        Shakma [VHS]|           Video|          5|           30|         31|   N|                N|It was some of th...|I starred in this...| 2015-05-22|\n",
            "|         US|    1750370|R3DHJNHOZTXZ6C|6304457316|     114967273|    Stagecoach [VHS]|           Video|          1|            0|         20|   N|                N|       never seen it|                 Mom| 2015-05-04|\n",
            "|         US|    6227904|R2BVILHJN8OCJB|B00004XPP0|     745272701|Star Wars Trilogy...|           Video|          5|           29|         31|   N|                N|OKAY. THE TWO MOV...|NOW STAR WARS EPI...| 2015-05-02|\n",
            "|         US|   36714812|R1L88H90CK9ID5|B000007OY0|     484638351|Shawshank Redempt...|           Video|          1|            1|         37|   N|                Y|            One Star|the tape is very ...| 2015-01-26|\n",
            "|         US|   42832241| RJQ36XR04YC0D|B00BBND56G|     745272701|Original Version ...|           Video|          5|           21|         24|   N|                N|this is the one &...|well, I don't kno...| 2014-12-02|\n",
            "|         US|   31306044|R250VXGBVFWTUV|B000XZGQM8|     967457203|Star Trek Deep Sp...|           Video|          4|           17|         20|   N|                N|This is by far th...|Star Trek promise...| 2014-10-17|\n",
            "|         US|    4616408|R1AN7BBDLYZAVU|B000GX7MMA|     688219998|       The Apartment|           Video|          1|            0|         26|   N|                N|                Yuck|Someone mentioned...| 2014-09-28|\n",
            "|         US|   51596102|R16CPMMKI4ZPZG|B0044PGRUO|     821984630|Lifetime Original...|           Video|          5|           22|         23|   N|                N|Excellent! !! 5 S...|I really need the...| 2014-08-27|\n",
            "|         US|   52776344|R3VCJ55YLFU69Q|B00001U0DX|     382932672|The Transformers ...|           Video|          1|            0|         21|   N|                Y|     Cheesy and dumb|My 13 year old so...| 2014-08-24|\n",
            "|         US|   13842585|R3GCODTQDCK7Y8|B0009A30K8|     189241859|The Day The Earth...|           Video|          1|            0|         23|   N|                Y|            One Star|Don't remember bu...| 2014-08-07|\n",
            "|         US|   30376702| RC4YN39LW8W6I|B000AQG4JU|     655504164|Jane Fonda's NEW ...|           Video|          1|            1|         24|   N|                Y|     ANY SOLUTIONS??|I was sooo excite...| 2014-07-12|\n",
            "|         US|   40547938|R1N9SV92ODOQ0S|B00000FZ8B|     407644828|Judgment at Nurem...|           Video|          1|            3|         30|   N|                Y|   Worthless Product|This is a very go...| 2014-06-18|\n",
            "|         US|   41381030|R1CYW4RYFV5D2U|6300216268|     872821543|Harold & Maude [VHS]|           Video|          1|            3|         24|   N|                Y|   Just... the worst|Was told by someo...| 2014-06-14|\n",
            "|         US|   46634050|R1QDLAE82GPWWG|B000AQG4JU|     655504164|Jane Fonda's NEW ...|           Video|          4|           30|         32|   N|                N|Still think the 1...|I have both the o...| 2014-05-02|\n",
            "|         US|   11845341|R2139OQ9VRIF78|6300185486|       6123368|   Callanetics [VHS]|           Video|          3|            1|         22|   N|                Y|         Callanetics|My recent purchas...| 2014-04-02|\n",
            "|         US|   24924478|R1P0T8FOZP5OVC|6300147630|     304325734|      Scanners [VHS]|           Video|          1|            2|         22|   N|                Y|Not the VHS I ord...|This was not the ...| 2014-03-21|\n",
            "|         US|   24736463|R14PTLF7MZZ8R4|B000OJBJMA|     471557934|     Field of Dreams|           Video|          1|            7|         30|   N|                Y|The Impossible Dr...|I don't like the ...| 2014-03-17|\n",
            "|         US|   48055428| ROVJULNDT4MPI|B0007CI95O|     794906423|     Body Flex 1 & 2|           Video|          5|           20|         20|   N|                N|Best Product it y...|My mother brought...| 2014-03-01|\n",
            "|         US|   31870019|R3QBOHRM5LX7D3|6304119046|      10707045|  Citizen Kane [VHS]|           Video|          1|            2|         22|   N|                Y|   movie came broken|I did not even bo...| 2014-02-24|\n",
            "|         US|    9055095|R3EHTX262RLEKZ|B00BBND56G|     745272701|Original Version ...|           Video|          5|           28|         31|   N|                Y|        The original|Just right for on...| 2014-02-19|\n",
            "+-----------+-----------+--------------+----------+--------------+--------------------+----------------+-----------+-------------+-----------+----+-----------------+--------------------+--------------------+-----------+\n",
            "only showing top 20 rows\n",
            "\n"
          ]
        }
      ]
    },
    {
      "cell_type": "code",
      "source": [
        "# Create a new dataframe with the dataframe from the previous step.\n",
        "votes_percentage_df = votes_df.filter(\"helpful_votes/total_votes >= 0.5\")\n",
        "votes_percentage_df.show()"
      ],
      "metadata": {
        "colab": {
          "base_uri": "https://localhost:8080/"
        },
        "id": "uaPBXkdTCR6V",
        "outputId": "eeb0bfb5-a797-4e25-a755-b687c1948623"
      },
      "execution_count": 24,
      "outputs": [
        {
          "output_type": "stream",
          "name": "stdout",
          "text": [
            "+-----------+-----------+--------------+----------+--------------+--------------------+----------------+-----------+-------------+-----------+----+-----------------+--------------------+--------------------+-----------+\n",
            "|marketplace|customer_id|     review_id|product_id|product_parent|       product_title|product_category|star_rating|helpful_votes|total_votes|vine|verified_purchase|     review_headline|         review_body|review_date|\n",
            "+-----------+-----------+--------------+----------+--------------+--------------------+----------------+-----------+-------------+-----------+----+-----------------+--------------------+--------------------+-----------+\n",
            "|         US|    2134748| RN8GRZ45FA27G|B00004RLLT|     401019781|        Shakma [VHS]|           Video|          5|           30|         31|   N|                N|It was some of th...|I starred in this...| 2015-05-22|\n",
            "|         US|    6227904|R2BVILHJN8OCJB|B00004XPP0|     745272701|Star Wars Trilogy...|           Video|          5|           29|         31|   N|                N|OKAY. THE TWO MOV...|NOW STAR WARS EPI...| 2015-05-02|\n",
            "|         US|   42832241| RJQ36XR04YC0D|B00BBND56G|     745272701|Original Version ...|           Video|          5|           21|         24|   N|                N|this is the one &...|well, I don't kno...| 2014-12-02|\n",
            "|         US|   31306044|R250VXGBVFWTUV|B000XZGQM8|     967457203|Star Trek Deep Sp...|           Video|          4|           17|         20|   N|                N|This is by far th...|Star Trek promise...| 2014-10-17|\n",
            "|         US|   51596102|R16CPMMKI4ZPZG|B0044PGRUO|     821984630|Lifetime Original...|           Video|          5|           22|         23|   N|                N|Excellent! !! 5 S...|I really need the...| 2014-08-27|\n",
            "|         US|   46634050|R1QDLAE82GPWWG|B000AQG4JU|     655504164|Jane Fonda's NEW ...|           Video|          4|           30|         32|   N|                N|Still think the 1...|I have both the o...| 2014-05-02|\n",
            "|         US|   48055428| ROVJULNDT4MPI|B0007CI95O|     794906423|     Body Flex 1 & 2|           Video|          5|           20|         20|   N|                N|Best Product it y...|My mother brought...| 2014-03-01|\n",
            "|         US|    9055095|R3EHTX262RLEKZ|B00BBND56G|     745272701|Original Version ...|           Video|          5|           28|         31|   N|                Y|        The original|Just right for on...| 2014-02-19|\n",
            "|         US|    6764592|R28TXXUMXAIGH3|B00BBND56G|     745272701|Original Version ...|           Video|          5|           21|         24|   N|                N|If you want to se...|As it has been st...| 2014-02-18|\n",
            "|         US|   45260721|R3UBLTOJ9G8NSU|0792834720|     210664710| Escape Clause [VHS]|           Video|          4|           19|         25|   N|                N|A good suspensefu...|The protagonist i...| 2013-11-13|\n",
            "|         US|   16954513|R1AJGJI6E2TZ26|B0002MSQ7U|      70892549|Ralph Paul: Secre...|           Video|          1|           44|         47|   N|                N|       tacher review|One of my greates...| 2013-11-07|\n",
            "|         US|   37484085|R16Y72Z2CP4A3Y|6302112060|      16259769|I've Always Loved...|           Video|          5|           27|         28|   N|                Y|How have I missed...|It is difficult f...| 2013-09-05|\n",
            "|         US|   49546877|R26K5GZTYJOS08|6301247345|     727493318|Platoon Leader [VHS]|           Video|          5|           32|         32|   N|                N|WAITING 25 YRS. S...|I served with Cha...| 2013-08-22|\n",
            "|         US|   45300547|R1PEOPNU57LE5J|B000A5SR46|     378671104|Rodgers & Hammers...|           Video|          5|           30|         33|   N|                Y|          cinderella|I have been looki...| 2013-07-22|\n",
            "|         US|   15846907| RVK8SPOZ3L50D|B000A5SR46|     378671104|Rodgers & Hammers...|           Video|          5|           79|         81|   N|                Y|BEST VERSION OF C...|This is the best ...| 2013-07-05|\n",
            "|         US|   27070982|R3O5I6JZA32HHS|B0007CI95O|     794906423|     Body Flex 1 & 2|           Video|          5|           18|         20|   N|                Y|Everybody should ...|I have been using...| 2013-03-28|\n",
            "|         US|   15110289|R166CXEUVQP4L9|B00005T5YJ|     312854727|        Brink! [VHS]|           Video|          2|           13|         20|   N|                N|               $200?|$200? Really..? I...| 2013-03-08|\n",
            "|         US|   41826320|R3FOJNYONJZAVL|6301358449|     477476631|  Retreat Hell [VHS]|           Video|          5|           42|         43|   N|                Y|Review of \"Retrea...|This old B & W mo...| 2013-03-06|\n",
            "|         US|   31508898|R22CIFPZ3HGNBZ|B00004RLOQ|     391310134|      Moontrap [VHS]|           Video|          2|           17|         21|   N|                Y|MOONTRAP Film is ...|I have seen this ...| 2013-02-28|\n",
            "|         US|   20537161|R30PZGIDXHASEK|B00009A8ZW|     334274225|Play Piano in a F...|           Video|          3|           24|         26|   N|                Y|Needs some practi...|Before watching t...| 2013-02-25|\n",
            "+-----------+-----------+--------------+----------+--------------+--------------------+----------------+-----------+-------------+-----------+----+-----------------+--------------------+--------------------+-----------+\n",
            "only showing top 20 rows\n",
            "\n"
          ]
        }
      ]
    },
    {
      "cell_type": "code",
      "source": [
        "paid_vine_program_df = votes_percentage_df.filter(votes_percentage_df[\"vine\"] == \"Y\")\n",
        "paid_vine_program_df.show()"
      ],
      "metadata": {
        "colab": {
          "base_uri": "https://localhost:8080/"
        },
        "id": "1lMMwd53Vtlp",
        "outputId": "87cb13d1-b20e-4654-af09-d625a86e8334"
      },
      "execution_count": 32,
      "outputs": [
        {
          "output_type": "stream",
          "name": "stdout",
          "text": [
            "+-----------+-----------+---------+----------+--------------+-------------+----------------+-----------+-------------+-----------+----+-----------------+---------------+-----------+-----------+\n",
            "|marketplace|customer_id|review_id|product_id|product_parent|product_title|product_category|star_rating|helpful_votes|total_votes|vine|verified_purchase|review_headline|review_body|review_date|\n",
            "+-----------+-----------+---------+----------+--------------+-------------+----------------+-----------+-------------+-----------+----+-----------------+---------------+-----------+-----------+\n",
            "+-----------+-----------+---------+----------+--------------+-------------+----------------+-----------+-------------+-----------+----+-----------------+---------------+-----------+-----------+\n",
            "\n"
          ]
        }
      ]
    },
    {
      "cell_type": "code",
      "source": [
        "unpaid_vine_program_df = votes_percentage_df.filter(votes_percentage_df[\"vine\"] == \"N\")\n",
        "unpaid_vine_program_df.show()"
      ],
      "metadata": {
        "colab": {
          "base_uri": "https://localhost:8080/"
        },
        "id": "3Wqx6_pLarLS",
        "outputId": "f4152a23-2b02-47be-e002-47530b0f67d8"
      },
      "execution_count": 33,
      "outputs": [
        {
          "output_type": "stream",
          "name": "stdout",
          "text": [
            "+-----------+-----------+--------------+----------+--------------+--------------------+----------------+-----------+-------------+-----------+----+-----------------+--------------------+--------------------+-----------+\n",
            "|marketplace|customer_id|     review_id|product_id|product_parent|       product_title|product_category|star_rating|helpful_votes|total_votes|vine|verified_purchase|     review_headline|         review_body|review_date|\n",
            "+-----------+-----------+--------------+----------+--------------+--------------------+----------------+-----------+-------------+-----------+----+-----------------+--------------------+--------------------+-----------+\n",
            "|         US|    2134748| RN8GRZ45FA27G|B00004RLLT|     401019781|        Shakma [VHS]|           Video|          5|           30|         31|   N|                N|It was some of th...|I starred in this...| 2015-05-22|\n",
            "|         US|    6227904|R2BVILHJN8OCJB|B00004XPP0|     745272701|Star Wars Trilogy...|           Video|          5|           29|         31|   N|                N|OKAY. THE TWO MOV...|NOW STAR WARS EPI...| 2015-05-02|\n",
            "|         US|   42832241| RJQ36XR04YC0D|B00BBND56G|     745272701|Original Version ...|           Video|          5|           21|         24|   N|                N|this is the one &...|well, I don't kno...| 2014-12-02|\n",
            "|         US|   31306044|R250VXGBVFWTUV|B000XZGQM8|     967457203|Star Trek Deep Sp...|           Video|          4|           17|         20|   N|                N|This is by far th...|Star Trek promise...| 2014-10-17|\n",
            "|         US|   51596102|R16CPMMKI4ZPZG|B0044PGRUO|     821984630|Lifetime Original...|           Video|          5|           22|         23|   N|                N|Excellent! !! 5 S...|I really need the...| 2014-08-27|\n",
            "|         US|   46634050|R1QDLAE82GPWWG|B000AQG4JU|     655504164|Jane Fonda's NEW ...|           Video|          4|           30|         32|   N|                N|Still think the 1...|I have both the o...| 2014-05-02|\n",
            "|         US|   48055428| ROVJULNDT4MPI|B0007CI95O|     794906423|     Body Flex 1 & 2|           Video|          5|           20|         20|   N|                N|Best Product it y...|My mother brought...| 2014-03-01|\n",
            "|         US|    9055095|R3EHTX262RLEKZ|B00BBND56G|     745272701|Original Version ...|           Video|          5|           28|         31|   N|                Y|        The original|Just right for on...| 2014-02-19|\n",
            "|         US|    6764592|R28TXXUMXAIGH3|B00BBND56G|     745272701|Original Version ...|           Video|          5|           21|         24|   N|                N|If you want to se...|As it has been st...| 2014-02-18|\n",
            "|         US|   45260721|R3UBLTOJ9G8NSU|0792834720|     210664710| Escape Clause [VHS]|           Video|          4|           19|         25|   N|                N|A good suspensefu...|The protagonist i...| 2013-11-13|\n",
            "|         US|   16954513|R1AJGJI6E2TZ26|B0002MSQ7U|      70892549|Ralph Paul: Secre...|           Video|          1|           44|         47|   N|                N|       tacher review|One of my greates...| 2013-11-07|\n",
            "|         US|   37484085|R16Y72Z2CP4A3Y|6302112060|      16259769|I've Always Loved...|           Video|          5|           27|         28|   N|                Y|How have I missed...|It is difficult f...| 2013-09-05|\n",
            "|         US|   49546877|R26K5GZTYJOS08|6301247345|     727493318|Platoon Leader [VHS]|           Video|          5|           32|         32|   N|                N|WAITING 25 YRS. S...|I served with Cha...| 2013-08-22|\n",
            "|         US|   45300547|R1PEOPNU57LE5J|B000A5SR46|     378671104|Rodgers & Hammers...|           Video|          5|           30|         33|   N|                Y|          cinderella|I have been looki...| 2013-07-22|\n",
            "|         US|   15846907| RVK8SPOZ3L50D|B000A5SR46|     378671104|Rodgers & Hammers...|           Video|          5|           79|         81|   N|                Y|BEST VERSION OF C...|This is the best ...| 2013-07-05|\n",
            "|         US|   27070982|R3O5I6JZA32HHS|B0007CI95O|     794906423|     Body Flex 1 & 2|           Video|          5|           18|         20|   N|                Y|Everybody should ...|I have been using...| 2013-03-28|\n",
            "|         US|   15110289|R166CXEUVQP4L9|B00005T5YJ|     312854727|        Brink! [VHS]|           Video|          2|           13|         20|   N|                N|               $200?|$200? Really..? I...| 2013-03-08|\n",
            "|         US|   41826320|R3FOJNYONJZAVL|6301358449|     477476631|  Retreat Hell [VHS]|           Video|          5|           42|         43|   N|                Y|Review of \"Retrea...|This old B & W mo...| 2013-03-06|\n",
            "|         US|   31508898|R22CIFPZ3HGNBZ|B00004RLOQ|     391310134|      Moontrap [VHS]|           Video|          2|           17|         21|   N|                Y|MOONTRAP Film is ...|I have seen this ...| 2013-02-28|\n",
            "|         US|   20537161|R30PZGIDXHASEK|B00009A8ZW|     334274225|Play Piano in a F...|           Video|          3|           24|         26|   N|                Y|Needs some practi...|Before watching t...| 2013-02-25|\n",
            "+-----------+-----------+--------------+----------+--------------+--------------------+----------------+-----------+-------------+-----------+----+-----------------+--------------------+--------------------+-----------+\n",
            "only showing top 20 rows\n",
            "\n"
          ]
        }
      ]
    },
    {
      "cell_type": "code",
      "source": [
        "paid_total_review = paid_vine_program_df.count()\n",
        "paid_total_review"
      ],
      "metadata": {
        "colab": {
          "base_uri": "https://localhost:8080/"
        },
        "id": "otWiy_UxbChC",
        "outputId": "244a065f-e225-4c04-e6d5-dba9033bcaa5"
      },
      "execution_count": 34,
      "outputs": [
        {
          "output_type": "execute_result",
          "data": {
            "text/plain": [
              "0"
            ]
          },
          "metadata": {},
          "execution_count": 34
        }
      ]
    },
    {
      "cell_type": "code",
      "source": [
        "unpaid_total_review = unpaid_vine_program_df.count()\n",
        "unpaid_total_review"
      ],
      "metadata": {
        "colab": {
          "base_uri": "https://localhost:8080/"
        },
        "id": "UNI1IYdYeLca",
        "outputId": "896b4c46-33f2-4a54-e33d-a8701b9f498a"
      },
      "execution_count": 35,
      "outputs": [
        {
          "output_type": "execute_result",
          "data": {
            "text/plain": [
              "20201"
            ]
          },
          "metadata": {},
          "execution_count": 35
        }
      ]
    },
    {
      "cell_type": "code",
      "source": [
        "paid_five_star_review = paid_vine_program_df.filter(\"star_rating == 5\").count()\n",
        "paid_five_star_review "
      ],
      "metadata": {
        "colab": {
          "base_uri": "https://localhost:8080/"
        },
        "id": "Bj3eEF5weQ4d",
        "outputId": "a4bf9e7d-5d89-4a47-c0bc-07aa3de60f7b"
      },
      "execution_count": 37,
      "outputs": [
        {
          "output_type": "execute_result",
          "data": {
            "text/plain": [
              "0"
            ]
          },
          "metadata": {},
          "execution_count": 37
        }
      ]
    },
    {
      "cell_type": "code",
      "source": [
        "unpaid_five_star_review = unpaid_vine_program_df.filter(\"star_rating == 5\").count()\n",
        "unpaid_five_star_review "
      ],
      "metadata": {
        "colab": {
          "base_uri": "https://localhost:8080/"
        },
        "id": "12CaMHg5enGZ",
        "outputId": "004fb590-2d70-44ed-85aa-db43b8b50f70"
      },
      "execution_count": 38,
      "outputs": [
        {
          "output_type": "execute_result",
          "data": {
            "text/plain": [
              "12331"
            ]
          },
          "metadata": {},
          "execution_count": 38
        }
      ]
    },
    {
      "cell_type": "code",
      "source": [
        "#calculating the percentage of 5-star reviews for the paid vine program. Since there is no paid vine program in this dataset, and zero division error, I included \"try\" & \"except\" in my code.\n",
        "try:\n",
        "    paid_five_star_review / paid_total_review * 100\n",
        "except ZeroDivisionError:\n",
        "    paid_five_star_review_percentage= 0\n",
        "paid_five_star_review_percentage"
      ],
      "metadata": {
        "colab": {
          "base_uri": "https://localhost:8080/"
        },
        "id": "Q5s731a0eyEi",
        "outputId": "837374c4-82ef-412c-e5b1-7f611dbc90e5"
      },
      "execution_count": 47,
      "outputs": [
        {
          "output_type": "execute_result",
          "data": {
            "text/plain": [
              "0"
            ]
          },
          "metadata": {},
          "execution_count": 47
        }
      ]
    },
    {
      "cell_type": "code",
      "source": [
        "unpaid_five_star_review_percentage = unpaid_five_star_review / unpaid_total_review * 100\n",
        "unpaid_five_star_review_percentage"
      ],
      "metadata": {
        "colab": {
          "base_uri": "https://localhost:8080/"
        },
        "id": "g20AxYOefPKr",
        "outputId": "246680f8-3371-4842-9541-99d33cf20693"
      },
      "execution_count": 44,
      "outputs": [
        {
          "output_type": "execute_result",
          "data": {
            "text/plain": [
              "61.04153259739616"
            ]
          },
          "metadata": {},
          "execution_count": 44
        }
      ]
    }
  ]
}